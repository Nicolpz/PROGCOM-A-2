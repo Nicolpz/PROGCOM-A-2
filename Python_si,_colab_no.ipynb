{
  "nbformat": 4,
  "nbformat_minor": 0,
  "metadata": {
    "colab": {
      "provenance": []
    },
    "kernelspec": {
      "name": "python3",
      "display_name": "Python 3"
    },
    "language_info": {
      "name": "python"
    }
  },
  "cells": [
    {
      "cell_type": "markdown",
      "source": [
        "#Cosas que python puede hacer pero colab no\n",
        "######1. Colab no permite ejecutar algún código si no esta conectado a internet.\n",
        "######2. Colab no permite craquear contraseñas\n",
        "######3. Colab no permite minar criptomonedas.\n",
        "######4. Colab no permite conectarse a proxies remotos.\n",
        "######5. Colab no identifica algunas librerias importadas.\n",
        "######6. Colab necesita tener una GPU de google para programar.\n",
        "######7. Colab tiene una cuota de almacenamiento limitada.\n",
        "######8. Colab genera error cuando estamos realizando una ejecución muy prolongada y muy potente, el entorno se desconecte.\n",
        "######9. Colab no permite alojar archivos, servir contenido multimedia u ofrecer otros servicios web que no estén relacionados con la computación interactiva de Colab\n",
        "######10. Colab no puede ejecutar ataques de denegación de servicio.\n",
        "######11. Colab genera errores cuando el código que se tiene es muy pesado por lo que genera incovenientes a la hora de llamar las variables o funciones.\n",
        "######12. Colab puede perder facilmente la información o partes del código.\n",
        "######13. Colab cierra automáticamente el entorno de ejecución si se detecta una inactividad prolongada.\n",
        "######14. Colab limita la funcionalidad de subir y descargar archivos locales del pc y de google drive\n",
        "######15. Colab cuenta con un número máximo de operaciones por usuario y por archivo, y cuotas de ancho de banda.\n",
        "######16. Colab no permite descargar torrents o compartir archivos de punto a punto.\n",
        "######17. Colab necesita tener flexibilidad para ajustar dinámicamente los límites de uso y la disponibilidad de hardware.\n",
        "######18. Colab no permite ejecutarse sin conexión.\n",
        "######19. Colab no permite ejecutar a la tortuguita (librería turttle).\n",
        "######20. Colab no permite usar un escritorio remoto.\n"
      ],
      "metadata": {
        "id": "goeaPv_2OgNn"
      }
    }
  ]
}