{
  "nbformat": 4,
  "nbformat_minor": 0,
  "metadata": {
    "colab": {
      "provenance": [],
      "collapsed_sections": [
        "ogv1NRKY9zG3",
        "1b41aaiX-vVk",
        "SvKBDVb7Ce5y",
        "DiDdYlvRC6AZ",
        "rr0pM3_tDlGB",
        "gdkrh7NsEwhk",
        "zZ33oY73HgFv"
      ]
    },
    "kernelspec": {
      "name": "python3",
      "display_name": "Python 3"
    },
    "language_info": {
      "name": "python"
    }
  },
  "cells": [
    {
      "cell_type": "markdown",
      "source": [
        "#lista por comprensión \n",
        "######sintáxis: newlist = [expresión(elemento) for elemento n in oldlist si condicion]\n",
        "esto técnicamente es colocar primero la expresión u operación y luego la condición"
      ],
      "metadata": {
        "id": "ogv1NRKY9zG3"
      }
    },
    {
      "cell_type": "code",
      "execution_count": 1,
      "metadata": {
        "colab": {
          "base_uri": "https://localhost:8080/"
        },
        "id": "lAsfq8i59kRF",
        "outputId": "7d510956-5604-4e47-c22f-667954179494"
      },
      "outputs": [
        {
          "output_type": "stream",
          "name": "stdout",
          "text": [
            "[2, 4, 6, 8, 10, 12, 14, 16]\n"
          ]
        }
      ],
      "source": [
        "numeros=[n*2 for n in range(1,9)]\n",
        "print(numeros)"
      ]
    },
    {
      "cell_type": "markdown",
      "source": [
        "#ventajas:\n",
        "######más eficiente en tiempo y espacio que los bucles\n",
        "######requiere menos líneas de código\n",
        "######transforma una declaracion iterativa en una formula "
      ],
      "metadata": {
        "id": "1b41aaiX-vVk"
      }
    },
    {
      "cell_type": "code",
      "source": [
        "cadenas=[\"*\" * n for n in range(1,6)]\n",
        "cadenas"
      ],
      "metadata": {
        "colab": {
          "base_uri": "https://localhost:8080/"
        },
        "id": "nO2QTuiZAbPY",
        "outputId": "efca0648-a885-441d-c161-934bc9d5869c"
      },
      "execution_count": null,
      "outputs": [
        {
          "output_type": "execute_result",
          "data": {
            "text/plain": [
              "['*', '**', '***', '****', '*****']"
            ]
          },
          "metadata": {},
          "execution_count": 3
        }
      ]
    },
    {
      "cell_type": "code",
      "source": [
        "numero=[2,5,6,9,10]\n",
        "cuadrados=[n**2 for n in numero]\n",
        "print(cuadrados)"
      ],
      "metadata": {
        "colab": {
          "base_uri": "https://localhost:8080/"
        },
        "id": "L_CamiEIAj5W",
        "outputId": "dd9e4d60-1e44-41e4-aa0f-f8fe4f88e796"
      },
      "execution_count": null,
      "outputs": [
        {
          "output_type": "stream",
          "name": "stdout",
          "text": [
            "[4, 25, 36, 81, 100]\n"
          ]
        }
      ]
    },
    {
      "cell_type": "code",
      "source": [
        "cadena= \"programación\"\n",
        "letras=[]\n",
        "for letra  in cadena:\n",
        "  letras.append(letra)\n",
        "\n",
        "print(letras)"
      ],
      "metadata": {
        "colab": {
          "base_uri": "https://localhost:8080/"
        },
        "id": "-XnKQv71Au6d",
        "outputId": "f90cf707-b527-4a1c-9cc6-be291bb723df"
      },
      "execution_count": null,
      "outputs": [
        {
          "output_type": "stream",
          "name": "stdout",
          "text": [
            "['p', 'r', 'o', 'g', 'r', 'a', 'm', 'a', 'c', 'i', 'ó', 'n']\n"
          ]
        }
      ]
    },
    {
      "cell_type": "code",
      "source": [
        "cadena = \"python\"\n",
        "letras =[ letra for letra in cadena]\n",
        "print(letras)"
      ],
      "metadata": {
        "colab": {
          "base_uri": "https://localhost:8080/"
        },
        "id": "b0mkhS3iCHqE",
        "outputId": "d7a129e1-07aa-4036-d557-090f3818d45e"
      },
      "execution_count": null,
      "outputs": [
        {
          "output_type": "stream",
          "name": "stdout",
          "text": [
            "['p', 'y', 't', 'h', 'o', 'n']\n"
          ]
        }
      ]
    },
    {
      "cell_type": "markdown",
      "source": [
        "#Ejercicio 1 by Samuelito"
      ],
      "metadata": {
        "id": "SvKBDVb7Ce5y"
      }
    },
    {
      "cell_type": "code",
      "source": [
        "x=input(\"ingrese la palabra que desee: \")\n",
        "lista=[n for n in x]\n",
        "lista"
      ],
      "metadata": {
        "colab": {
          "base_uri": "https://localhost:8080/"
        },
        "id": "AML4TzrfCh8x",
        "outputId": "6404ae78-539c-462f-8092-b66df0e8a272"
      },
      "execution_count": null,
      "outputs": [
        {
          "name": "stdout",
          "output_type": "stream",
          "text": [
            "ingrese la palabra que desee: 2\n"
          ]
        },
        {
          "output_type": "execute_result",
          "data": {
            "text/plain": [
              "['2']"
            ]
          },
          "metadata": {},
          "execution_count": 19
        }
      ]
    },
    {
      "cell_type": "markdown",
      "source": [
        "#Ejercicio 2 by Daniel Amado"
      ],
      "metadata": {
        "id": "DiDdYlvRC6AZ"
      }
    },
    {
      "cell_type": "code",
      "source": [
        "lista1=[2,7,10,9,8]\n",
        "lista2=[elementos**2 for elementos in lista1 if elementos%2 == 0]\n",
        "lista2 "
      ],
      "metadata": {
        "colab": {
          "base_uri": "https://localhost:8080/"
        },
        "id": "aK2adY72DA7x",
        "outputId": "2121bb66-651a-44c0-b46f-b97d10b62fb4"
      },
      "execution_count": null,
      "outputs": [
        {
          "output_type": "execute_result",
          "data": {
            "text/plain": [
              "[4, 100, 64]"
            ]
          },
          "metadata": {},
          "execution_count": 20
        }
      ]
    },
    {
      "cell_type": "markdown",
      "source": [
        "#Ejercicio 3 by Iván"
      ],
      "metadata": {
        "id": "rr0pM3_tDlGB"
      }
    },
    {
      "cell_type": "code",
      "source": [
        "import random \n",
        "capitan=[random.randrange(1,30) for i in range(9)]\n",
        "#randrange: rango donde se va generar la lista aleatoria\n",
        "print(\"imprimir numeros aleatorios de la lista: \", str(capitan))"
      ],
      "metadata": {
        "colab": {
          "base_uri": "https://localhost:8080/"
        },
        "id": "-GxV2OP1EBnG",
        "outputId": "18f59820-e17c-4e8b-ba28-fd72b3de7469"
      },
      "execution_count": null,
      "outputs": [
        {
          "output_type": "stream",
          "name": "stdout",
          "text": [
            "imprimir numeros aleatorios de la lista:  [5, 28, 26, 19, 28, 26, 14, 7, 25]\n"
          ]
        }
      ]
    },
    {
      "cell_type": "markdown",
      "source": [
        "#Ejercicio 4 by Juan Pablo"
      ],
      "metadata": {
        "id": "gdkrh7NsEwhk"
      }
    },
    {
      "cell_type": "code",
      "source": [
        "precios=[]\n",
        "print(\"ingresar los numeros que quiera realizar un descuento: \")\n",
        "det=True\n",
        "while det:\n",
        "  num=int(input(\"0 para terminar ejecucion: \"))\n",
        "  precios.append(num)\n",
        "  det=False if num == 0 else num>0\n",
        "des=float(input(\"ingrese el descuento: \"))\n",
        "presdes=[precio*des/100 for precio in precios]\n",
        "presdes.pop(-1)\n",
        "print(\"Este es el valor que se le resta a cada número\", presdes)"
      ],
      "metadata": {
        "colab": {
          "base_uri": "https://localhost:8080/"
        },
        "id": "kze2Q-ypFFZw",
        "outputId": "8e799cd6-551a-48aa-a782-8249ac790805"
      },
      "execution_count": null,
      "outputs": [
        {
          "output_type": "stream",
          "name": "stdout",
          "text": [
            "ingresar los numeros que quiera realizar un descuento: \n",
            "0 para terminar ejecucion: 10\n",
            "0 para terminar ejecucion: 20\n",
            "0 para terminar ejecucion: 30\n",
            "0 para terminar ejecucion: 0\n",
            "ingrese el descuento: 15\n",
            "Este es el valor que se le resta a cada número [1.5, 3.0, 4.5]\n"
          ]
        }
      ]
    },
    {
      "cell_type": "markdown",
      "source": [
        "#Ejercicio 5 by Cristian "
      ],
      "metadata": {
        "id": "zZ33oY73HgFv"
      }
    },
    {
      "cell_type": "code",
      "source": [
        "num=[]\n",
        "for i in range(6):\n",
        "  num.append(int(input(\"ingresa el numero ganador: \")))\n",
        "num.sort()\n",
        "print(\"los numeros ganadores del baloto son: \" + str(num))"
      ],
      "metadata": {
        "colab": {
          "base_uri": "https://localhost:8080/"
        },
        "id": "XnqhVy1CHoir",
        "outputId": "c32b3468-0dd5-4296-c03b-5bd69f177d29"
      },
      "execution_count": null,
      "outputs": [
        {
          "output_type": "stream",
          "name": "stdout",
          "text": [
            "ingresa el numero ganador: 1\n",
            "ingresa el numero ganador: 2\n",
            "ingresa el numero ganador: 3\n",
            "ingresa el numero ganador: 4\n",
            "ingresa el numero ganador: 5\n",
            "ingresa el numero ganador: 6\n",
            "los numeros ganadores del baloto son: [1, 2, 3, 4, 5, 6]\n"
          ]
        }
      ]
    }
  ]
}