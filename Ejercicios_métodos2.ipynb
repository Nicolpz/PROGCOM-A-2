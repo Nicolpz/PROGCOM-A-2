{
  "nbformat": 4,
  "nbformat_minor": 0,
  "metadata": {
    "colab": {
      "provenance": []
    },
    "kernelspec": {
      "name": "python3",
      "display_name": "Python 3"
    },
    "language_info": {
      "name": "python"
    }
  },
  "cells": [
    {
      "cell_type": "markdown",
      "source": [
        "#Ejercicios métodos \n"
      ],
      "metadata": {
        "id": "4HK0HEH2nB71"
      }
    },
    {
      "cell_type": "code",
      "execution_count": null,
      "metadata": {
        "id": "Pl9qysa3m_Z_"
      },
      "outputs": [],
      "source": [
        "def npc(a,b):\n",
        "  if a>b:\n",
        "    print(a,\" es el mayor\")\n",
        "  else:\n",
        "    print(b,\" es el mayor\")\n",
        "#    return a\n",
        "#  return b"
      ]
    },
    {
      "cell_type": "code",
      "source": [
        "print(npc(6,3))"
      ],
      "metadata": {
        "colab": {
          "base_uri": "https://localhost:8080/"
        },
        "id": "b-7EfCEcnafE",
        "outputId": "76d8d4f6-07f0-494a-844e-e50568c82b77"
      },
      "execution_count": null,
      "outputs": [
        {
          "output_type": "stream",
          "name": "stdout",
          "text": [
            "6  es el mayor\n",
            "None\n"
          ]
        }
      ]
    },
    {
      "cell_type": "code",
      "source": [
        "def mayor(x,y,z):\n",
        "  npc(x,npc(y,z))"
      ],
      "metadata": {
        "id": "CHy4Xa2qnsYM"
      },
      "execution_count": 35,
      "outputs": []
    },
    {
      "cell_type": "code",
      "source": [
        "print(mayor(4,5,6))"
      ],
      "metadata": {
        "id": "eOyArRreo5so",
        "colab": {
          "base_uri": "https://localhost:8080/",
          "height": 235
        },
        "outputId": "57cc4f34-ea12-4606-e185-cee7e55d22a6"
      },
      "execution_count": 37,
      "outputs": [
        {
          "output_type": "error",
          "ename": "NameError",
          "evalue": "ignored",
          "traceback": [
            "\u001b[0;31m---------------------------------------------------------------------------\u001b[0m",
            "\u001b[0;31mNameError\u001b[0m                                 Traceback (most recent call last)",
            "\u001b[0;32m<ipython-input-37-52547e86f0e6>\u001b[0m in \u001b[0;36m<module>\u001b[0;34m\u001b[0m\n\u001b[0;32m----> 1\u001b[0;31m \u001b[0mprint\u001b[0m\u001b[0;34m(\u001b[0m\u001b[0mmayor\u001b[0m\u001b[0;34m(\u001b[0m\u001b[0;36m4\u001b[0m\u001b[0;34m,\u001b[0m\u001b[0;36m5\u001b[0m\u001b[0;34m,\u001b[0m\u001b[0;36m6\u001b[0m\u001b[0;34m)\u001b[0m\u001b[0;34m)\u001b[0m\u001b[0;34m\u001b[0m\u001b[0;34m\u001b[0m\u001b[0m\n\u001b[0m",
            "\u001b[0;32m<ipython-input-35-5d5c755fc6a0>\u001b[0m in \u001b[0;36mmayor\u001b[0;34m(x, y, z)\u001b[0m\n\u001b[1;32m      1\u001b[0m \u001b[0;32mdef\u001b[0m \u001b[0mmayor\u001b[0m\u001b[0;34m(\u001b[0m\u001b[0mx\u001b[0m\u001b[0;34m,\u001b[0m\u001b[0my\u001b[0m\u001b[0;34m,\u001b[0m\u001b[0mz\u001b[0m\u001b[0;34m)\u001b[0m\u001b[0;34m:\u001b[0m\u001b[0;34m\u001b[0m\u001b[0;34m\u001b[0m\u001b[0m\n\u001b[0;32m----> 2\u001b[0;31m   \u001b[0mnpc\u001b[0m\u001b[0;34m(\u001b[0m\u001b[0mx\u001b[0m\u001b[0;34m,\u001b[0m\u001b[0mnpc\u001b[0m\u001b[0;34m(\u001b[0m\u001b[0my\u001b[0m\u001b[0;34m,\u001b[0m\u001b[0mz\u001b[0m\u001b[0;34m)\u001b[0m\u001b[0;34m)\u001b[0m\u001b[0;34m\u001b[0m\u001b[0;34m\u001b[0m\u001b[0m\n\u001b[0m",
            "\u001b[0;31mNameError\u001b[0m: name 'npc' is not defined"
          ]
        }
      ]
    },
    {
      "cell_type": "markdown",
      "source": [
        "#1. Determine el mayor de dos números"
      ],
      "metadata": {
        "id": "x_qeLqD4qSr-"
      }
    },
    {
      "cell_type": "code",
      "source": [
        "def npc(a,b):\n",
        "  if a>b:\n",
        "    print(a,\" es el mayor\")\n",
        "  else:\n",
        "    print(b,\" es el mayor\")\n",
        "#    return a\n",
        "#  return b"
      ],
      "metadata": {
        "id": "x8GVsz0Qq3yu"
      },
      "execution_count": null,
      "outputs": []
    },
    {
      "cell_type": "code",
      "source": [
        "print(npc(6,3))"
      ],
      "metadata": {
        "colab": {
          "base_uri": "https://localhost:8080/"
        },
        "id": "TUm7Lgrhq92W",
        "outputId": "f11a1f29-5c0d-497d-d3f2-f5bb2293ad05"
      },
      "execution_count": null,
      "outputs": [
        {
          "output_type": "stream",
          "name": "stdout",
          "text": [
            "6  es el mayor\n",
            "None\n"
          ]
        }
      ]
    },
    {
      "cell_type": "markdown",
      "source": [
        "#2. Determine el mayor de tres números (empleando la función anterior)."
      ],
      "metadata": {
        "id": "NdGshjcRqdU2"
      }
    },
    {
      "cell_type": "code",
      "source": [
        "def mayor(x,y,z):\n",
        "  npc(x,npc(y,z))"
      ],
      "metadata": {
        "id": "VzEvRirk-EG-"
      },
      "execution_count": 38,
      "outputs": []
    },
    {
      "cell_type": "code",
      "source": [
        "print(mayor(4,5,6))"
      ],
      "metadata": {
        "colab": {
          "base_uri": "https://localhost:8080/",
          "height": 235
        },
        "id": "-NgOik6o-EAH",
        "outputId": "af08b21f-7fa8-4957-dc96-e90fb1b438ef"
      },
      "execution_count": 39,
      "outputs": [
        {
          "output_type": "error",
          "ename": "NameError",
          "evalue": "ignored",
          "traceback": [
            "\u001b[0;31m---------------------------------------------------------------------------\u001b[0m",
            "\u001b[0;31mNameError\u001b[0m                                 Traceback (most recent call last)",
            "\u001b[0;32m<ipython-input-39-52547e86f0e6>\u001b[0m in \u001b[0;36m<module>\u001b[0;34m\u001b[0m\n\u001b[0;32m----> 1\u001b[0;31m \u001b[0mprint\u001b[0m\u001b[0;34m(\u001b[0m\u001b[0mmayor\u001b[0m\u001b[0;34m(\u001b[0m\u001b[0;36m4\u001b[0m\u001b[0;34m,\u001b[0m\u001b[0;36m5\u001b[0m\u001b[0;34m,\u001b[0m\u001b[0;36m6\u001b[0m\u001b[0;34m)\u001b[0m\u001b[0;34m)\u001b[0m\u001b[0;34m\u001b[0m\u001b[0;34m\u001b[0m\u001b[0m\n\u001b[0m",
            "\u001b[0;32m<ipython-input-38-5d5c755fc6a0>\u001b[0m in \u001b[0;36mmayor\u001b[0;34m(x, y, z)\u001b[0m\n\u001b[1;32m      1\u001b[0m \u001b[0;32mdef\u001b[0m \u001b[0mmayor\u001b[0m\u001b[0;34m(\u001b[0m\u001b[0mx\u001b[0m\u001b[0;34m,\u001b[0m\u001b[0my\u001b[0m\u001b[0;34m,\u001b[0m\u001b[0mz\u001b[0m\u001b[0;34m)\u001b[0m\u001b[0;34m:\u001b[0m\u001b[0;34m\u001b[0m\u001b[0;34m\u001b[0m\u001b[0m\n\u001b[0;32m----> 2\u001b[0;31m   \u001b[0mnpc\u001b[0m\u001b[0;34m(\u001b[0m\u001b[0mx\u001b[0m\u001b[0;34m,\u001b[0m\u001b[0mnpc\u001b[0m\u001b[0;34m(\u001b[0m\u001b[0my\u001b[0m\u001b[0;34m,\u001b[0m\u001b[0mz\u001b[0m\u001b[0;34m)\u001b[0m\u001b[0;34m)\u001b[0m\u001b[0;34m\u001b[0m\u001b[0;34m\u001b[0m\u001b[0m\n\u001b[0m",
            "\u001b[0;31mNameError\u001b[0m: name 'npc' is not defined"
          ]
        }
      ]
    },
    {
      "cell_type": "markdown",
      "source": [
        "#3. Sumar los números de una lista de 3 elementos. Ejemplo [3,4,5]. Salida: 12"
      ],
      "metadata": {
        "id": "85hna9dsqlu-"
      }
    },
    {
      "cell_type": "code",
      "source": [
        "def sumar(a,b,c):\n",
        "  lista=[a,b,c]\n",
        "  suma=0\n",
        "  suma=lista[0]+lista[1]+lista[2]\n",
        "  return suma"
      ],
      "metadata": {
        "id": "jtjdwQVau66s"
      },
      "execution_count": null,
      "outputs": []
    },
    {
      "cell_type": "code",
      "source": [
        "sumar(3,4,5)"
      ],
      "metadata": {
        "colab": {
          "base_uri": "https://localhost:8080/"
        },
        "id": "Sw1ZnDZoyqlN",
        "outputId": "abb15f87-2901-41af-dceb-239d3d5aac4a"
      },
      "execution_count": null,
      "outputs": [
        {
          "output_type": "execute_result",
          "data": {
            "text/plain": [
              "12"
            ]
          },
          "metadata": {},
          "execution_count": 39
        }
      ]
    },
    {
      "cell_type": "markdown",
      "source": [
        "#4. Sumar los números de una lista de 4 elementos. Ejemplo [3,4,5,6]. Salida: 18\n"
      ],
      "metadata": {
        "id": "Fou4njplqnrd"
      }
    },
    {
      "cell_type": "code",
      "source": [
        "def sumar1(a,b,c,d):\n",
        "  lista=[a,b,c,d]\n",
        "  suma=0\n",
        "  suma=lista[0]+lista[1]+lista[2]+lista[3]\n",
        "  return suma"
      ],
      "metadata": {
        "id": "06X-NnRczyGh"
      },
      "execution_count": 17,
      "outputs": []
    },
    {
      "cell_type": "code",
      "source": [
        "sumar1(3,4,5,6)"
      ],
      "metadata": {
        "colab": {
          "base_uri": "https://localhost:8080/"
        },
        "id": "XHI1u1mIz26K",
        "outputId": "07d085b2-fbf3-4e68-dc3d-8659d18cd86d"
      },
      "execution_count": 18,
      "outputs": [
        {
          "output_type": "execute_result",
          "data": {
            "text/plain": [
              "18"
            ]
          },
          "metadata": {},
          "execution_count": 18
        }
      ]
    },
    {
      "cell_type": "markdown",
      "source": [
        "#5. Sumar todos los números de una lista. Ejemplo: (8,5,3,1). Salida: 17"
      ],
      "metadata": {
        "id": "7OXDGOeYqrbe"
      }
    },
    {
      "cell_type": "code",
      "source": [
        "#n=int(input(\"Largo de la lista: \"))\n",
        "#for i in range(0,n,1):\n",
        "#  int(input(\"números: \"))\n",
        "lista=[8,5,3,1]\n",
        "def sumar2(lista):\n",
        "  suma=0\n",
        "  for i in lista:\n",
        "    suma=suma+i\n",
        "  return suma"
      ],
      "metadata": {
        "id": "TfTOwRCaz_9X"
      },
      "execution_count": 19,
      "outputs": []
    },
    {
      "cell_type": "code",
      "source": [
        "sumar2(lista)"
      ],
      "metadata": {
        "colab": {
          "base_uri": "https://localhost:8080/"
        },
        "id": "zHr_QSAs7wjx",
        "outputId": "1c48653e-665a-4fa1-8fc5-b7fe8dbcfc3e"
      },
      "execution_count": 20,
      "outputs": [
        {
          "output_type": "execute_result",
          "data": {
            "text/plain": [
              "17"
            ]
          },
          "metadata": {},
          "execution_count": 20
        }
      ]
    },
    {
      "cell_type": "markdown",
      "source": [
        "#6. Multiplicar los números de una lista de 3 elementos. Ejemplo [0,4,5]. Salida: 0"
      ],
      "metadata": {
        "id": "g_w_ZdlEqtbW"
      }
    },
    {
      "cell_type": "code",
      "source": [
        "def sumar3(a,b,c):\n",
        "  lista=[a,b,c]\n",
        "  suma=0\n",
        "  suma=lista[0]*lista[1]*lista[2]\n",
        "  return suma"
      ],
      "metadata": {
        "id": "DtBRs4Dr6q1B"
      },
      "execution_count": 21,
      "outputs": []
    },
    {
      "cell_type": "code",
      "source": [
        "sumar3(0,4,5)"
      ],
      "metadata": {
        "colab": {
          "base_uri": "https://localhost:8080/"
        },
        "id": "yS7GfT2p6xgx",
        "outputId": "19392f85-8c20-4b70-8f63-413b2da02b08"
      },
      "execution_count": 22,
      "outputs": [
        {
          "output_type": "execute_result",
          "data": {
            "text/plain": [
              "0"
            ]
          },
          "metadata": {},
          "execution_count": 22
        }
      ]
    },
    {
      "cell_type": "markdown",
      "source": [
        "#7. Multiplicar los números de una lista de 4 elementos. Ejemplo [3,4,5,1]. Salida: 60"
      ],
      "metadata": {
        "id": "Tly_WOk-qvnG"
      }
    },
    {
      "cell_type": "code",
      "source": [
        "def sumar4(a,b,c,d):\n",
        "  lista=[a,b,c,d]\n",
        "  suma=0\n",
        "  suma=lista[0]*lista[1]*lista[2]*lista[3]\n",
        "  return suma"
      ],
      "metadata": {
        "id": "gFvmBJEm64Jq"
      },
      "execution_count": 23,
      "outputs": []
    },
    {
      "cell_type": "code",
      "source": [
        "sumar4(3,4,5,1)"
      ],
      "metadata": {
        "colab": {
          "base_uri": "https://localhost:8080/"
        },
        "id": "m7pn3Tby65IJ",
        "outputId": "83b83080-8d8c-43d0-aaab-54438f655075"
      },
      "execution_count": 24,
      "outputs": [
        {
          "output_type": "execute_result",
          "data": {
            "text/plain": [
              "60"
            ]
          },
          "metadata": {},
          "execution_count": 24
        }
      ]
    },
    {
      "cell_type": "markdown",
      "source": [
        "#8. Multiplicar todos los números de una lista. Ejemplo: (1,2,3,-1). Salida: -6"
      ],
      "metadata": {
        "id": "BhAiz8BOqxi2"
      }
    },
    {
      "cell_type": "code",
      "source": [
        "lista=[1,2,3,-1]\n",
        "def sumar5(lista):\n",
        "  suma=1\n",
        "  for i in lista:\n",
        "    suma=suma*i\n",
        "  return suma"
      ],
      "metadata": {
        "id": "hfeZXC4a8ezj"
      },
      "execution_count": 33,
      "outputs": []
    },
    {
      "cell_type": "code",
      "source": [
        "sumar5(lista)"
      ],
      "metadata": {
        "colab": {
          "base_uri": "https://localhost:8080/"
        },
        "id": "Uk3zwiy08wfI",
        "outputId": "ba4d04a6-54a1-468a-e43e-77ab96a2add5"
      },
      "execution_count": 34,
      "outputs": [
        {
          "output_type": "execute_result",
          "data": {
            "text/plain": [
              "-6"
            ]
          },
          "metadata": {},
          "execution_count": 34
        }
      ]
    },
    {
      "cell_type": "markdown",
      "source": [
        "#9. Invierta un String. Ejemplo: ingresa Hola y retorna aloH"
      ],
      "metadata": {
        "id": "90HJ6WEiqzd3"
      }
    },
    {
      "cell_type": "code",
      "source": [
        "a=str(input(\"escribe algo: \"))\n",
        "def invertir(a):\n",
        "  return a[::-1]"
      ],
      "metadata": {
        "colab": {
          "base_uri": "https://localhost:8080/"
        },
        "id": "005D12f37LGR",
        "outputId": "869c9a22-d277-460c-c3e9-d12614533a14"
      },
      "execution_count": null,
      "outputs": [
        {
          "name": "stdout",
          "output_type": "stream",
          "text": [
            "escribe algo: hola\n"
          ]
        }
      ]
    },
    {
      "cell_type": "code",
      "source": [
        "invertir(a)"
      ],
      "metadata": {
        "colab": {
          "base_uri": "https://localhost:8080/",
          "height": 36
        },
        "id": "3Mo8KV7Y7_YL",
        "outputId": "8de4efca-7ed9-457e-af47-786e66809d37"
      },
      "execution_count": null,
      "outputs": [
        {
          "output_type": "execute_result",
          "data": {
            "text/plain": [
              "'aloh'"
            ],
            "application/vnd.google.colaboratory.intrinsic+json": {
              "type": "string"
            }
          },
          "metadata": {},
          "execution_count": 100
        }
      ]
    },
    {
      "cell_type": "markdown",
      "source": [
        "#10. Calcular el factorial de un número"
      ],
      "metadata": {
        "id": "SuSASpDfq18e"
      }
    },
    {
      "cell_type": "code",
      "source": [
        "def fact(n):\n",
        "  facto=1\n",
        "  for i in range(1,n+1):\n",
        "    facto=facto*i\n",
        "  return facto"
      ],
      "metadata": {
        "id": "48O1w2J7-3na"
      },
      "execution_count": 2,
      "outputs": []
    },
    {
      "cell_type": "code",
      "source": [
        "fact(3)"
      ],
      "metadata": {
        "colab": {
          "base_uri": "https://localhost:8080/"
        },
        "id": "-BQMzGpP7CX-",
        "outputId": "ca61c2ff-0880-4e03-c9a1-e88b67706507"
      },
      "execution_count": 85,
      "outputs": [
        {
          "output_type": "execute_result",
          "data": {
            "text/plain": [
              "6"
            ]
          },
          "metadata": {},
          "execution_count": 85
        }
      ]
    },
    {
      "cell_type": "markdown",
      "source": [
        "#11. Si un número está dentro de un rango"
      ],
      "metadata": {
        "id": "9qZ_l3mbuW5D"
      }
    },
    {
      "cell_type": "code",
      "source": [
        "x=int(input(\"Ingresa un número: \"))\n",
        "def esta(a,b):\n",
        "  if x>=a and x<=b:\n",
        "    print(x, \"existe\")\n",
        "  else:\n",
        "    print(x, \"no existe\")"
      ],
      "metadata": {
        "colab": {
          "base_uri": "https://localhost:8080/"
        },
        "id": "1gDVPRAn-Ru8",
        "outputId": "33b38dc3-800a-4f83-9c3a-75ffc0c3f47f"
      },
      "execution_count": 45,
      "outputs": [
        {
          "name": "stdout",
          "output_type": "stream",
          "text": [
            "Ingresa un número: -1\n"
          ]
        }
      ]
    },
    {
      "cell_type": "code",
      "source": [
        "esta(-5,5)"
      ],
      "metadata": {
        "colab": {
          "base_uri": "https://localhost:8080/"
        },
        "id": "hfX72qDC-hoE",
        "outputId": "c98d58fe-6d1c-4053-f4f6-a308f408beff"
      },
      "execution_count": 46,
      "outputs": [
        {
          "output_type": "stream",
          "name": "stdout",
          "text": [
            "-1 existe\n"
          ]
        }
      ]
    },
    {
      "cell_type": "markdown",
      "source": [
        "#12. Capture el número de mayúsculas y minúsculas en una oración."
      ],
      "metadata": {
        "id": "yhVc8Aspuboj"
      }
    },
    {
      "cell_type": "markdown",
      "source": [
        "#13. El ejercicio anterior, pero almacene los resultados en un diccionario."
      ],
      "metadata": {
        "id": "F9C6NTexud1L"
      }
    },
    {
      "cell_type": "markdown",
      "source": [
        "#14. Reciba una lista y retorne sólo los elementos pares"
      ],
      "metadata": {
        "id": "owxYzjt_uhI7"
      }
    },
    {
      "cell_type": "code",
      "source": [
        "lista=[1,2,3,4,5,6,7,8,9,10]\n",
        "def comp(lista):\n",
        "  a=len(lista)\n",
        "  for i in range(0,a):\n",
        "    if lista[i]%2==0:\n",
        "      print(lista[i])\n",
        "#      return lista[i]"
      ],
      "metadata": {
        "id": "Bqeym4eo-4Mb"
      },
      "execution_count": 63,
      "outputs": []
    },
    {
      "cell_type": "code",
      "source": [
        "comp(lista)"
      ],
      "metadata": {
        "colab": {
          "base_uri": "https://localhost:8080/"
        },
        "id": "xNc_67Ui_7TA",
        "outputId": "3f3c3d95-ad7d-4f8c-aa95-bbc6aef4fb01"
      },
      "execution_count": 64,
      "outputs": [
        {
          "output_type": "stream",
          "name": "stdout",
          "text": [
            "2\n",
            "4\n",
            "6\n",
            "8\n",
            "10\n"
          ]
        }
      ]
    },
    {
      "cell_type": "markdown",
      "source": [
        "#15. Reciba una lista y retorne sólo los elementos de posición impar"
      ],
      "metadata": {
        "id": "lxXI65TAujWD"
      }
    },
    {
      "cell_type": "code",
      "source": [
        "lista=[1,2,3,4,5,6,7,8,9,10]\n",
        "def comp(lista):\n",
        "  a=len(lista)\n",
        "  for i in range(0,a):\n",
        "    if lista[i]%2==1:\n",
        "      print(lista[i])\n",
        "#      return lista[i]"
      ],
      "metadata": {
        "id": "3X5RXTSIBMct"
      },
      "execution_count": 67,
      "outputs": []
    },
    {
      "cell_type": "code",
      "source": [
        "comp(lista)"
      ],
      "metadata": {
        "colab": {
          "base_uri": "https://localhost:8080/"
        },
        "id": "j6SAC7wWBOu3",
        "outputId": "b0b7754e-8026-4bc5-d2e2-a72deebe1b61"
      },
      "execution_count": 68,
      "outputs": [
        {
          "output_type": "stream",
          "name": "stdout",
          "text": [
            "1\n",
            "3\n",
            "5\n",
            "7\n",
            "9\n"
          ]
        }
      ]
    },
    {
      "cell_type": "markdown",
      "source": [
        "#16. Recibir un número y decir si es perfecto o no. Ejemplo: 6 es perfecto, porque la suma de sus divisores es 6 (1+2+3)"
      ],
      "metadata": {
        "id": "pmrNWzDiulQr"
      }
    },
    {
      "cell_type": "markdown",
      "source": [
        "#17. Chequear si una palabra es palíndromo o no. Ejemplo: “Ana” es un palíndromo"
      ],
      "metadata": {
        "id": "1yZrkW6wup8b"
      }
    },
    {
      "cell_type": "code",
      "source": [
        "a=str(input(\"Escriba una palabra: \"))\n",
        "def pali(a): \n",
        "  b=len(a)\n",
        "  b=a[::-1]\n",
        "  if a==b:\n",
        "    print(\"Es palíndromo\")\n",
        "  else:\n",
        "    print(\"No es palíndromo\")"
      ],
      "metadata": {
        "colab": {
          "base_uri": "https://localhost:8080/"
        },
        "id": "ma9hoNT5BiGB",
        "outputId": "755d49b7-d647-4287-cc3c-2e8fd5f65b56"
      },
      "execution_count": 75,
      "outputs": [
        {
          "name": "stdout",
          "output_type": "stream",
          "text": [
            "Escriba una palabra: idjasjdajdi\n"
          ]
        }
      ]
    },
    {
      "cell_type": "code",
      "source": [
        "pali(a)"
      ],
      "metadata": {
        "colab": {
          "base_uri": "https://localhost:8080/"
        },
        "id": "JI84tjpbBkmX",
        "outputId": "ed9e14ac-7ae2-41da-9904-3a9e12c9ba1c"
      },
      "execution_count": 76,
      "outputs": [
        {
          "output_type": "stream",
          "name": "stdout",
          "text": [
            "No es palíndromo\n"
          ]
        }
      ]
    },
    {
      "cell_type": "markdown",
      "source": [
        "#18. Imprimir la fila n del triángulo de pascal\n"
      ],
      "metadata": {
        "id": "Rb5y8AdCusKj"
      }
    },
    {
      "cell_type": "markdown",
      "source": [
        "#19. Imprimir una frase tipo oración. Ejemplo: Ingresa: esta es una oración e imprime Esta es una oración."
      ],
      "metadata": {
        "id": "SP-hBPZVuulr"
      }
    },
    {
      "cell_type": "code",
      "source": [
        "a=input(\"escribe algo: \")\n",
        "def ora(a):\n",
        "  b = a.title()\n",
        "  print(b)"
      ],
      "metadata": {
        "colab": {
          "base_uri": "https://localhost:8080/"
        },
        "id": "kovF9kIuHr-D",
        "outputId": "0211417f-d258-4ae6-ae44-c186d5189238"
      },
      "execution_count": 89,
      "outputs": [
        {
          "name": "stdout",
          "output_type": "stream",
          "text": [
            "escribe algo: jajaja\n"
          ]
        }
      ]
    },
    {
      "cell_type": "code",
      "source": [
        "ora(a)"
      ],
      "metadata": {
        "colab": {
          "base_uri": "https://localhost:8080/"
        },
        "id": "BCIyARByIUBi",
        "outputId": "d85c740e-5e9d-4e62-b1ee-79b26f8125c9"
      },
      "execution_count": 90,
      "outputs": [
        {
          "output_type": "stream",
          "name": "stdout",
          "text": [
            "Jajaja\n"
          ]
        }
      ]
    },
    {
      "cell_type": "markdown",
      "source": [
        "#20. Acepte palabras separadas por – y las ordene alfabéticamente.\n",
        "#Ejemplo: ingresa verde-rojo-amarillo-blanco-negro\n",
        "#Regresa: amarillo-blanco-negro-rojo-verde"
      ],
      "metadata": {
        "id": "aBwir9VFu0qb"
      }
    }
  ]
}