{
  "nbformat": 4,
  "nbformat_minor": 0,
  "metadata": {
    "colab": {
      "provenance": [],
      "collapsed_sections": []
    },
    "kernelspec": {
      "name": "python3",
      "display_name": "Python 3"
    },
    "language_info": {
      "name": "python"
    }
  },
  "cells": [
    {
      "cell_type": "markdown",
      "source": [
        "#Programación Orientada a Objetos \n",
        "Clase es como un molde \n",
        "* Variables -> atributos \n",
        "* Funciones -> métodos\n",
        "* Constructor -> constituye una clase \n",
        "* Objetos: comparten atributos, métodos, relaciones que tienen una identidad propia "
      ],
      "metadata": {
        "id": "1OHnEgXfDomF"
      }
    },
    {
      "cell_type": "code",
      "source": [
        "class Mascotas():\n",
        "  pass "
      ],
      "metadata": {
        "id": "d9h5yisjEcJ-"
      },
      "execution_count": 5,
      "outputs": []
    },
    {
      "cell_type": "code",
      "source": [
        "a=Mascotas\n",
        "b=Mascotas"
      ],
      "metadata": {
        "id": "_B6o27xtE259"
      },
      "execution_count": 6,
      "outputs": []
    },
    {
      "cell_type": "code",
      "source": [
        "if a==b: \n",
        "  print(\"Son iguanitos\")\n",
        "else: \n",
        "  print(\"No son iguanitos\")"
      ],
      "metadata": {
        "colab": {
          "base_uri": "https://localhost:8080/"
        },
        "id": "mhPCEUUCGOpt",
        "outputId": "f4a1cd78-e1c0-458f-b186-d41267e72f2d"
      },
      "execution_count": 7,
      "outputs": [
        {
          "output_type": "stream",
          "name": "stdout",
          "text": [
            "Son iguanitos\n"
          ]
        }
      ]
    },
    {
      "cell_type": "code",
      "execution_count": 33,
      "metadata": {
        "id": "WUgWQLfX_IZo"
      },
      "outputs": [],
      "source": [
        "class Empleado():\n",
        "  #Construyendo un constructor  \n",
        "  def __init__(self,nombre,edad,id,salario):\n",
        "    self.nombre=nombre\n",
        "    self.edad=edad\n",
        "    self.id=id\n",
        "    self.salario=salario\n",
        "\n",
        "  def __repr__(self):\n",
        "    return f\"nombre:{self.nombre}, edad:{self.edad}, id:{self.id}, salario:{self.salario}\""
      ]
    },
    {
      "cell_type": "code",
      "source": [
        "sonia=Empleado(\"Sonia\",25,\"U00122314\",10000000)"
      ],
      "metadata": {
        "id": "Ay45MT2wHf-a"
      },
      "execution_count": 34,
      "outputs": []
    },
    {
      "cell_type": "code",
      "source": [
        "print(sonia)"
      ],
      "metadata": {
        "colab": {
          "base_uri": "https://localhost:8080/"
        },
        "id": "ECz6DFrNH3bk",
        "outputId": "9ccbe556-d7e8-48ab-e39d-0148135eea58"
      },
      "execution_count": 35,
      "outputs": [
        {
          "output_type": "stream",
          "name": "stdout",
          "text": [
            "nombre:Sonia, edad:25, id:U00122314, salario:10000000\n"
          ]
        }
      ]
    },
    {
      "cell_type": "code",
      "source": [
        "sonia.nombre"
      ],
      "metadata": {
        "colab": {
          "base_uri": "https://localhost:8080/",
          "height": 35
        },
        "id": "LhqcGKDfISh3",
        "outputId": "47b3ae13-0436-465e-dcd7-bccea2d4a5e1"
      },
      "execution_count": 16,
      "outputs": [
        {
          "output_type": "execute_result",
          "data": {
            "text/plain": [
              "'Sonia'"
            ],
            "application/vnd.google.colaboratory.intrinsic+json": {
              "type": "string"
            }
          },
          "metadata": {},
          "execution_count": 16
        }
      ]
    },
    {
      "cell_type": "code",
      "source": [
        "sonia.__dict__ "
      ],
      "metadata": {
        "colab": {
          "base_uri": "https://localhost:8080/"
        },
        "id": "Ol3Ebd68Iar_",
        "outputId": "157c1b51-94fe-4902-ad26-e83318bb64f4"
      },
      "execution_count": 19,
      "outputs": [
        {
          "output_type": "execute_result",
          "data": {
            "text/plain": [
              "{'nombre': 'Sonia', 'edad': 25, 'id': 'U00122314', 'salarios': 10000000}"
            ]
          },
          "metadata": {},
          "execution_count": 19
        }
      ]
    },
    {
      "cell_type": "code",
      "source": [
        "madaniel=Empleado(\"Pirulais\", 83, \"U001512345\", 1000000)"
      ],
      "metadata": {
        "id": "cHRnLAaSLexW"
      },
      "execution_count": 36,
      "outputs": []
    },
    {
      "cell_type": "code",
      "source": [
        "if sonia.salario==madaniel.salario:\n",
        "  print(f\"El salario de {madaniel.nombre} y {sonia.nombre} son iguales\")\n",
        "elif sonia.salario>madaniel.salario:\n",
        "  print(f\"El salario de {madaniel.nombre} es menor al de {sonia.nombre}\")\n",
        "else: \n",
        "  print(f\"El salario de {madaniel.nombre} es mayor al de {sonia.nombre}\")"
      ],
      "metadata": {
        "colab": {
          "base_uri": "https://localhost:8080/"
        },
        "id": "LwvtA87XNyQ7",
        "outputId": "ae89e08a-352d-4f24-92c8-3bf7181736af"
      },
      "execution_count": 39,
      "outputs": [
        {
          "output_type": "stream",
          "name": "stdout",
          "text": [
            "El salario de Pirulais es menor al de Sonia\n"
          ]
        }
      ]
    },
    {
      "cell_type": "code",
      "source": [
        "class Fraccion:\n",
        "  #Atributos de clase \n",
        "  num=0\n",
        "  den=1\n",
        "  #Creando el constructor \n",
        "  def __init__(self,num=0,den=1):\n",
        "    self.num=num\n",
        "    self.den=den\n",
        "  def multiplica(self,b):\n",
        "    num=self.num*b.num\n",
        "    den=self.den*b.den\n",
        "    r=Fraccion(num,den)\n",
        "    return r\n",
        "  def imprime(self):\n",
        "    print(self.num,\"/\", self.den)"
      ],
      "metadata": {
        "id": "ekJsrjBhO6Ta"
      },
      "execution_count": 59,
      "outputs": []
    },
    {
      "cell_type": "code",
      "source": [
        "#Creando objetos tipo fracción \n",
        "a1=Fraccion(4,5)\n",
        "a2=Fraccion(8,9)"
      ],
      "metadata": {
        "id": "YADAyzpARPQ4"
      },
      "execution_count": 60,
      "outputs": []
    },
    {
      "cell_type": "code",
      "source": [
        "a1.imprime()\n",
        "a2.imprime()"
      ],
      "metadata": {
        "colab": {
          "base_uri": "https://localhost:8080/"
        },
        "id": "hEY1Pne4RnI_",
        "outputId": "d2ff0080-593d-4703-f3a0-a6584f7586ab"
      },
      "execution_count": 61,
      "outputs": [
        {
          "output_type": "stream",
          "name": "stdout",
          "text": [
            "4 / 5\n",
            "8 / 9\n"
          ]
        }
      ]
    },
    {
      "cell_type": "code",
      "source": [
        "c=a1.multiplica(a2)\n",
        "c.imprime()"
      ],
      "metadata": {
        "colab": {
          "base_uri": "https://localhost:8080/"
        },
        "id": "-L6CRYMRS4S2",
        "outputId": "60c6272b-9c6d-4bd1-bf55-69132c05b7a5"
      },
      "execution_count": 62,
      "outputs": [
        {
          "output_type": "stream",
          "name": "stdout",
          "text": [
            "32 / 45\n"
          ]
        }
      ]
    }
  ]
}