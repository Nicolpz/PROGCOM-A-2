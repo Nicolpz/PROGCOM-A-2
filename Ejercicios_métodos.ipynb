{
  "nbformat": 4,
  "nbformat_minor": 0,
  "metadata": {
    "colab": {
      "provenance": []
    },
    "kernelspec": {
      "name": "python3",
      "display_name": "Python 3"
    },
    "language_info": {
      "name": "python"
    }
  },
  "cells": [
    {
      "cell_type": "markdown",
      "source": [
        "#Ejercicios métodos \n"
      ],
      "metadata": {
        "id": "4HK0HEH2nB71"
      }
    },
    {
      "cell_type": "code",
      "execution_count": 18,
      "metadata": {
        "id": "Pl9qysa3m_Z_"
      },
      "outputs": [],
      "source": [
        "def npc(a,b):\n",
        "  if a>b:\n",
        "    print(a,\" es el mayor\")\n",
        "  else:\n",
        "    print(b,\" es el mayor\")\n",
        "#    return a\n",
        "#  return b"
      ]
    },
    {
      "cell_type": "code",
      "source": [
        "print(npc(6,3))"
      ],
      "metadata": {
        "colab": {
          "base_uri": "https://localhost:8080/"
        },
        "id": "b-7EfCEcnafE",
        "outputId": "76d8d4f6-07f0-494a-844e-e50568c82b77"
      },
      "execution_count": 16,
      "outputs": [
        {
          "output_type": "stream",
          "name": "stdout",
          "text": [
            "6  es el mayor\n",
            "None\n"
          ]
        }
      ]
    },
    {
      "cell_type": "code",
      "source": [
        "def mayor(x,y,z):\n",
        "  npc(x,npc(y,z))"
      ],
      "metadata": {
        "id": "CHy4Xa2qnsYM"
      },
      "execution_count": 24,
      "outputs": []
    },
    {
      "cell_type": "code",
      "source": [
        "print(mayor(4,5,6))"
      ],
      "metadata": {
        "id": "eOyArRreo5so"
      },
      "execution_count": null,
      "outputs": []
    },
    {
      "cell_type": "markdown",
      "source": [
        "#1. Determine el mayor de dos números"
      ],
      "metadata": {
        "id": "x_qeLqD4qSr-"
      }
    },
    {
      "cell_type": "code",
      "source": [
        "def npc(a,b):\n",
        "  if a>b:\n",
        "    print(a,\" es el mayor\")\n",
        "  else:\n",
        "    print(b,\" es el mayor\")\n",
        "#    return a\n",
        "#  return b"
      ],
      "metadata": {
        "id": "x8GVsz0Qq3yu"
      },
      "execution_count": 1,
      "outputs": []
    },
    {
      "cell_type": "code",
      "source": [
        "print(npc(6,3))"
      ],
      "metadata": {
        "colab": {
          "base_uri": "https://localhost:8080/"
        },
        "id": "TUm7Lgrhq92W",
        "outputId": "f11a1f29-5c0d-497d-d3f2-f5bb2293ad05"
      },
      "execution_count": 2,
      "outputs": [
        {
          "output_type": "stream",
          "name": "stdout",
          "text": [
            "6  es el mayor\n",
            "None\n"
          ]
        }
      ]
    },
    {
      "cell_type": "markdown",
      "source": [
        "#2. Determine el mayor de tres números (empleando la función anterior)."
      ],
      "metadata": {
        "id": "NdGshjcRqdU2"
      }
    },
    {
      "cell_type": "markdown",
      "source": [
        "#3. Sumar los números de una lista de 3 elementos. Ejemplo [3,4,5]. Salida: 12"
      ],
      "metadata": {
        "id": "85hna9dsqlu-"
      }
    },
    {
      "cell_type": "code",
      "source": [
        "def sumar(a,b,c):\n",
        "  lista=[a,b,c]\n",
        "  suma=0\n",
        "  suma=lista[0]+lista[1]+lista[2]\n",
        "  return suma"
      ],
      "metadata": {
        "id": "jtjdwQVau66s"
      },
      "execution_count": 38,
      "outputs": []
    },
    {
      "cell_type": "code",
      "source": [
        "sumar(3,4,5)"
      ],
      "metadata": {
        "colab": {
          "base_uri": "https://localhost:8080/"
        },
        "id": "Sw1ZnDZoyqlN",
        "outputId": "abb15f87-2901-41af-dceb-239d3d5aac4a"
      },
      "execution_count": 39,
      "outputs": [
        {
          "output_type": "execute_result",
          "data": {
            "text/plain": [
              "12"
            ]
          },
          "metadata": {},
          "execution_count": 39
        }
      ]
    },
    {
      "cell_type": "markdown",
      "source": [
        "#4. Sumar los números de una lista de 4 elementos. Ejemplo [3,4,5,6]. Salida: 18\n"
      ],
      "metadata": {
        "id": "Fou4njplqnrd"
      }
    },
    {
      "cell_type": "code",
      "source": [
        "def sumar(a,b,c,d):\n",
        "  lista=[a,b,c,d]\n",
        "  suma=0\n",
        "  suma=lista[0]+lista[1]+lista[2]+lista[3]\n",
        "  return suma"
      ],
      "metadata": {
        "id": "06X-NnRczyGh"
      },
      "execution_count": 42,
      "outputs": []
    },
    {
      "cell_type": "code",
      "source": [
        "sumar(3,4,5,6)"
      ],
      "metadata": {
        "colab": {
          "base_uri": "https://localhost:8080/"
        },
        "id": "XHI1u1mIz26K",
        "outputId": "a0e3470c-cf34-47a6-94d5-1661861b04bf"
      },
      "execution_count": 43,
      "outputs": [
        {
          "output_type": "execute_result",
          "data": {
            "text/plain": [
              "18"
            ]
          },
          "metadata": {},
          "execution_count": 43
        }
      ]
    },
    {
      "cell_type": "markdown",
      "source": [
        "#5. Sumar todos los números de una lista. Ejemplo: (8,5,3,1). Salida: 17"
      ],
      "metadata": {
        "id": "7OXDGOeYqrbe"
      }
    },
    {
      "cell_type": "code",
      "source": [
        "n=int(input(\"Largo de la lista: \"))\n",
        "append\n",
        "for i in range(0,n,1):\n",
        "  int(input(\"números: \"))\n",
        "def sumar(x):\n",
        "  lista=[x]\n",
        "  suma=sum(lista)\n",
        "  return suma"
      ],
      "metadata": {
        "colab": {
          "base_uri": "https://localhost:8080/"
        },
        "id": "TfTOwRCaz_9X",
        "outputId": "e86b409c-e3a1-4286-ff18-5b79c78a97ec"
      },
      "execution_count": 85,
      "outputs": [
        {
          "name": "stdout",
          "output_type": "stream",
          "text": [
            "Largo de la lista: 3\n",
            "numeros: 1\n",
            "numeros: 2\n",
            "numeros: 3\n"
          ]
        }
      ]
    },
    {
      "cell_type": "markdown",
      "source": [
        "#6. Multiplicar los números de una lista de 3 elementos. Ejemplo [0,4,5]. Salida: 0"
      ],
      "metadata": {
        "id": "g_w_ZdlEqtbW"
      }
    },
    {
      "cell_type": "code",
      "source": [
        "def sumar(a,b,c):\n",
        "  lista=[a,b,c]\n",
        "  suma=0\n",
        "  suma=lista[0]*lista[1]*lista[2]\n",
        "  return suma"
      ],
      "metadata": {
        "id": "DtBRs4Dr6q1B"
      },
      "execution_count": 91,
      "outputs": []
    },
    {
      "cell_type": "code",
      "source": [
        "sumar(0,4,5)"
      ],
      "metadata": {
        "colab": {
          "base_uri": "https://localhost:8080/"
        },
        "id": "yS7GfT2p6xgx",
        "outputId": "f8b83cec-5c4b-4a70-ef81-24b60931b121"
      },
      "execution_count": 94,
      "outputs": [
        {
          "output_type": "execute_result",
          "data": {
            "text/plain": [
              "0"
            ]
          },
          "metadata": {},
          "execution_count": 94
        }
      ]
    },
    {
      "cell_type": "markdown",
      "source": [
        "#7. Multiplicar los números de una lista de 4 elementos. Ejemplo [3,4,5,1]. Salida: 60"
      ],
      "metadata": {
        "id": "Tly_WOk-qvnG"
      }
    },
    {
      "cell_type": "code",
      "source": [
        "def sumar(a,b,c,d):\n",
        "  lista=[a,b,c,d]\n",
        "  suma=0\n",
        "  suma=lista[0]*lista[1]*lista[2]*lista[3]\n",
        "  return suma"
      ],
      "metadata": {
        "id": "gFvmBJEm64Jq"
      },
      "execution_count": 95,
      "outputs": []
    },
    {
      "cell_type": "code",
      "source": [
        "sumar(3,4,5,1)"
      ],
      "metadata": {
        "colab": {
          "base_uri": "https://localhost:8080/"
        },
        "id": "m7pn3Tby65IJ",
        "outputId": "4decde0a-3ba3-434b-a248-2fc0c7a2de83"
      },
      "execution_count": 96,
      "outputs": [
        {
          "output_type": "execute_result",
          "data": {
            "text/plain": [
              "60"
            ]
          },
          "metadata": {},
          "execution_count": 96
        }
      ]
    },
    {
      "cell_type": "markdown",
      "source": [
        "#8. Multiplicar todos los números de una lista. Ejemplo: (1,2,3,-1). Salida: -6"
      ],
      "metadata": {
        "id": "BhAiz8BOqxi2"
      }
    },
    {
      "cell_type": "markdown",
      "source": [
        "#9. Invierta un String. Ejemplo: ingresa Hola y retorna aloH"
      ],
      "metadata": {
        "id": "90HJ6WEiqzd3"
      }
    },
    {
      "cell_type": "code",
      "source": [
        "a=str(input(\"escribe algo: \"))\n",
        "def invertir(a):\n",
        "  return a[::-1]"
      ],
      "metadata": {
        "colab": {
          "base_uri": "https://localhost:8080/"
        },
        "id": "005D12f37LGR",
        "outputId": "869c9a22-d277-460c-c3e9-d12614533a14"
      },
      "execution_count": 99,
      "outputs": [
        {
          "name": "stdout",
          "output_type": "stream",
          "text": [
            "escribe algo: hola\n"
          ]
        }
      ]
    },
    {
      "cell_type": "code",
      "source": [
        "invertir(a)"
      ],
      "metadata": {
        "colab": {
          "base_uri": "https://localhost:8080/",
          "height": 36
        },
        "id": "3Mo8KV7Y7_YL",
        "outputId": "8de4efca-7ed9-457e-af47-786e66809d37"
      },
      "execution_count": 100,
      "outputs": [
        {
          "output_type": "execute_result",
          "data": {
            "text/plain": [
              "'aloh'"
            ],
            "application/vnd.google.colaboratory.intrinsic+json": {
              "type": "string"
            }
          },
          "metadata": {},
          "execution_count": 100
        }
      ]
    },
    {
      "cell_type": "markdown",
      "source": [
        "#10. Calcular el factorial de un número"
      ],
      "metadata": {
        "id": "SuSASpDfq18e"
      }
    },
    {
      "cell_type": "code",
      "source": [
        "n=int(input(\"Número: \"))\n",
        "def fact(n):\n",
        "  for i in range(0,n,1):\n",
        "    factorial=n*i*(n-1)\n",
        "  return factorial"
      ],
      "metadata": {
        "colab": {
          "base_uri": "https://localhost:8080/"
        },
        "id": "48O1w2J7-3na",
        "outputId": "185b3d1e-3575-4f02-feea-3c0d77838e8e"
      },
      "execution_count": 130,
      "outputs": [
        {
          "name": "stdout",
          "output_type": "stream",
          "text": [
            "Número: 5\n"
          ]
        }
      ]
    },
    {
      "cell_type": "code",
      "source": [
        "fact(n)"
      ],
      "metadata": {
        "colab": {
          "base_uri": "https://localhost:8080/"
        },
        "id": "MQsYXA9h_XPA",
        "outputId": "99270b79-ce45-45cb-e7f0-496e551d989f"
      },
      "execution_count": 129,
      "outputs": [
        {
          "output_type": "execute_result",
          "data": {
            "text/plain": [
              "80"
            ]
          },
          "metadata": {},
          "execution_count": 129
        }
      ]
    },
    {
      "cell_type": "markdown",
      "source": [
        "#11. Si un número está dentro de un rango"
      ],
      "metadata": {
        "id": "9qZ_l3mbuW5D"
      }
    },
    {
      "cell_type": "markdown",
      "source": [
        "#12. Capture el número de mayúsculas y minúsculas en una oración."
      ],
      "metadata": {
        "id": "yhVc8Aspuboj"
      }
    },
    {
      "cell_type": "markdown",
      "source": [
        "#13. El ejercicio anterior, pero almacene los resultados en un diccionario."
      ],
      "metadata": {
        "id": "F9C6NTexud1L"
      }
    },
    {
      "cell_type": "markdown",
      "source": [
        "#14. Reciba una lista y retorne sólo los elementos pares"
      ],
      "metadata": {
        "id": "owxYzjt_uhI7"
      }
    },
    {
      "cell_type": "markdown",
      "source": [
        "#15. Reciba una lista y retorne sólo los elementos de posición impar"
      ],
      "metadata": {
        "id": "lxXI65TAujWD"
      }
    },
    {
      "cell_type": "markdown",
      "source": [
        "#16. Recibir un número y decir si es perfecto o no. Ejemplo: 6 es perfecto, porque la suma de sus divisores es 6 (1+2+3)"
      ],
      "metadata": {
        "id": "pmrNWzDiulQr"
      }
    },
    {
      "cell_type": "markdown",
      "source": [
        "#17. Chequear si una palabra es palíndromo o no. Ejemplo: “Ana” es un palíndromo"
      ],
      "metadata": {
        "id": "1yZrkW6wup8b"
      }
    },
    {
      "cell_type": "markdown",
      "source": [
        "#18. Imprimir la fila n del triángulo de pascal\n"
      ],
      "metadata": {
        "id": "Rb5y8AdCusKj"
      }
    },
    {
      "cell_type": "markdown",
      "source": [
        "#19. Imprimir una frase tipo oración. Ejemplo: Ingresa: esta es una oración e imprime Esta es una oración."
      ],
      "metadata": {
        "id": "SP-hBPZVuulr"
      }
    },
    {
      "cell_type": "markdown",
      "source": [
        "#20. Acepte palabras separadas por – y las ordene alfabéticamente.\n",
        "#Ejemplo: ingresa verde-rojo-amarillo-blanco-negro\n",
        "#Regresa: amarillo-blanco-negro-rojo-verde"
      ],
      "metadata": {
        "id": "aBwir9VFu0qb"
      }
    }
  ]
}