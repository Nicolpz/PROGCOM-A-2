{
  "nbformat": 4,
  "nbformat_minor": 0,
  "metadata": {
    "colab": {
      "provenance": []
    },
    "kernelspec": {
      "name": "python3",
      "display_name": "Python 3"
    },
    "language_info": {
      "name": "python"
    }
  },
  "cells": [
    {
      "cell_type": "markdown",
      "source": [
        "#Funciones\n",
        "dev (nombre cualquiera)(parámetros o argumentos):\n",
        "lo que va dentro de la función"
      ],
      "metadata": {
        "id": "3aJ5VN6I0sWH"
      }
    },
    {
      "cell_type": "markdown",
      "source": [
        "Tipos de funciones\n",
        "1. Sin parámetros, sin retorno \n",
        "- dev manuel():\n",
        "  - print (\"tome sus cinco\")\n",
        "2. Sin parámetros, con retorno\n",
        "- def Nicolás():\n",
        "  - print (\"hola Nicolás\")\n",
        "  - a=5\n",
        "  - return a\n",
        "3. Con parámetros, sin retorno\n",
        "- def holitas(a, \"b\", x=false):\n",
        "  - int a\n",
        "  - b=string\n",
        "  - x=boolean\n",
        "  - print (\"hola Nicolás\")\n",
        "  - a=5\n",
        "4. Con parámetros, con retorno\n",
        "- def holitas(a, \"b\", x=false):\n",
        "  - int a\n",
        "  - b=string\n",
        "  - x=boolean\n",
        "  - print (\"hola Nicolás\")\n",
        "  - a=5\n",
        "  - return a"
      ],
      "metadata": {
        "id": "luqOt0BV0-zW"
      }
    },
    {
      "cell_type": "code",
      "execution_count": 6,
      "metadata": {
        "id": "28s73Rfg0gSl"
      },
      "outputs": [],
      "source": [
        "#1\n",
        "def saluden():\n",
        "  print(\"Saludar\")\n",
        "  print(\"Es de cracks\")"
      ]
    },
    {
      "cell_type": "code",
      "source": [
        "saluden()"
      ],
      "metadata": {
        "colab": {
          "base_uri": "https://localhost:8080/"
        },
        "id": "JDDlqeyM4tVb",
        "outputId": "0e3a6c1b-26fa-447b-adaf-f9b84e6d2204"
      },
      "execution_count": 7,
      "outputs": [
        {
          "output_type": "stream",
          "name": "stdout",
          "text": [
            "Saludar\n",
            "Es de cracks\n"
          ]
        }
      ]
    },
    {
      "cell_type": "code",
      "source": [
        "a=int(input(\"Ingrese un número: \"))\n",
        "b=int(input(\"Ingrese un número: \"))\n",
        "c=int(input(\"Ingrese un número: \"))\n",
        "if a != b and a != c and b != c:\n",
        "  if a > b and a > c:\n",
        "    if b > c:\n",
        "      print(a, \"es el valor mayor\")\n",
        "      print(b, \"es el valor medio\")\n",
        "      print(c, \"es el valor menor\")\n",
        "    else: \n",
        "      print(a, \"es el valor mayor\")\n",
        "      print(c, \"es el valor medio\")\n",
        "      print(b, \"es el valor menor\")\n",
        "  elif b > a and b > c:\n",
        "    if a > c:\n",
        "      print(b, \"es el valor mayor\")\n",
        "      print(a, \"es el valor medio\")\n",
        "      print(c, \"es el valor menor\")\n",
        "    else: \n",
        "      print(b, \"es el valor mayor\")\n",
        "      print(c, \"es el valor medio\")\n",
        "      print(a, \"es el valor menor\")\n",
        "  if c > a and c > b:\n",
        "    if a > b:\n",
        "      print(c, \"es el valor mayor\")\n",
        "      print(a, \"es el valor medio\")\n",
        "      print(b, \"es el valor menor\")\n",
        "    else: \n",
        "      print(c, \"es el valor mayor\")\n",
        "      print(b, \"es el valor medio\")\n",
        "      print(a, \"es el valor menor\")\n",
        "else:\n",
        "   print(\"No se puede hacer el calculo\")"
      ],
      "metadata": {
        "colab": {
          "base_uri": "https://localhost:8080/"
        },
        "id": "gHhYNaOr5Bf4",
        "outputId": "52a6ae03-3b64-4882-9d9e-ac7b125ac0fb"
      },
      "execution_count": 30,
      "outputs": [
        {
          "output_type": "stream",
          "name": "stdout",
          "text": [
            "Ingrese un número: 1\n",
            "Ingrese un número: 2\n",
            "Ingrese un número: 3\n",
            "3 es el valor mayor\n",
            "2 es el valor medio\n",
            "1 es el valor menor\n"
          ]
        }
      ]
    },
    {
      "cell_type": "code",
      "source": [
        "#2\n",
        "def imprimir(a,b,c):\n",
        "  print(a, \"es el valor mayor\")\n",
        "  print(b, \"es el valor medio\")\n",
        "  print(c, \"es el valor menor\")\n",
        "  #a=int(input(\"Ingrese un número: \"))\n",
        "  #b=int(input(\"Ingrese un número: \"))\n",
        "  #c=int(input(\"Ingrese un número: \"))\n",
        "#  return a, b, c"
      ],
      "metadata": {
        "id": "dz3gQ9eO65pL"
      },
      "execution_count": 1,
      "outputs": []
    },
    {
      "cell_type": "code",
      "source": [
        "imprimir()\n",
        "if a != b and a != c and b != c:\n",
        "  if a > b and a > c:\n",
        "    if b > c:\n",
        "      print(a, \"es el valor mayor\")\n",
        "      print(b, \"es el valor medio\")\n",
        "      print(c, \"es el valor menor\")\n",
        "    else: \n",
        "      print(a, \"es el valor mayor\")\n",
        "      print(c, \"es el valor medio\")\n",
        "      print(b, \"es el valor menor\")\n",
        "  elif b > a and b > c:\n",
        "    if a > c:\n",
        "      print(b, \"es el valor mayor\")\n",
        "      print(a, \"es el valor medio\")\n",
        "      print(c, \"es el valor menor\")\n",
        "    else: \n",
        "      print(b, \"es el valor mayor\")\n",
        "      print(c, \"es el valor medio\")\n",
        "      print(a, \"es el valor menor\")\n",
        "  if c > a and c > b:\n",
        "    if a > b:\n",
        "      print(c, \"es el valor mayor\")\n",
        "      print(a, \"es el valor medio\")\n",
        "      print(b, \"es el valor menor\")\n",
        "    else: \n",
        "      print(c, \"es el valor mayor\")\n",
        "      print(b, \"es el valor medio\")\n",
        "      print(a, \"es el valor menor\")\n",
        "else:\n",
        "   print(\"No se puede hacer el calculo\")"
      ],
      "metadata": {
        "id": "P0inZySv79aL"
      },
      "execution_count": null,
      "outputs": []
    },
    {
      "cell_type": "code",
      "source": [
        "a=int(input(\"Ingrese un número: \"))\n",
        "b=int(input(\"Ingrese un número: \"))\n",
        "c=int(input(\"Ingrese un número: \"))\n",
        "if a != b and a != c and b != c:\n",
        "  if a > b and a > c:\n",
        "    if b > c:\n",
        "     imprimir(a,b,c)\n",
        "    else: \n",
        "      imprimir(a,c,b)\n",
        "  elif b > a and b > c:\n",
        "    if a > c:\n",
        "      imprimir(b,a,c)\n",
        "    else: \n",
        "      imprimir(b,c,a)\n",
        "  if c > a and c > b:\n",
        "    if a > b:\n",
        "      imprimir(c,a,b)\n",
        "    else: \n",
        "      imprimir(c,b,a)\n",
        "else:\n",
        "   print(\"No se puede hacer el calculo\")"
      ],
      "metadata": {
        "colab": {
          "base_uri": "https://localhost:8080/"
        },
        "id": "qm_qBBIx_D7n",
        "outputId": "a67db54c-3075-4699-f84e-b0b22f344647"
      },
      "execution_count": 2,
      "outputs": [
        {
          "output_type": "stream",
          "name": "stdout",
          "text": [
            "Ingrese un número: 4\n",
            "Ingrese un número: 5\n",
            "Ingrese un número: 6\n",
            "6 es el valor mayor\n",
            "5 es el valor medio\n",
            "4 es el valor menor\n"
          ]
        }
      ]
    },
    {
      "cell_type": "code",
      "source": [
        "def comparar(a,b,c):\n",
        "  if a != b and a != c and b != c:\n",
        "    if a > b and a > c:\n",
        "      if b > c:\n",
        "        imprimir(a,b,c)\n",
        "      else: \n",
        "        imprimir(a,c,b)\n",
        "    elif b > a and b > c:\n",
        "      if a > c:\n",
        "        imprimir(b,a,c)\n",
        "      else: \n",
        "        imprimir(b,c,a)\n",
        "    if c > a and c > b:\n",
        "      if a > b:\n",
        "        imprimir(c,a,b)\n",
        "      else: \n",
        "        imprimir(c,b,a)\n",
        "  else:\n",
        "    print(\"No se puede hacer el calculo\")"
      ],
      "metadata": {
        "id": "mjWtXa-qAzRx"
      },
      "execution_count": 4,
      "outputs": []
    },
    {
      "cell_type": "code",
      "source": [
        "a=int(input(\"Ingrese un número: \"))\n",
        "b=int(input(\"Ingrese un número: \"))\n",
        "c=int(input(\"Ingrese un número: \"))\n",
        "comparar(c,b,a)"
      ],
      "metadata": {
        "colab": {
          "base_uri": "https://localhost:8080/"
        },
        "id": "ceCDyZ6bByF4",
        "outputId": "ed360500-a4ec-4e09-ac7b-da662e1898f3"
      },
      "execution_count": 6,
      "outputs": [
        {
          "output_type": "stream",
          "name": "stdout",
          "text": [
            "Ingrese un número: 7\n",
            "Ingrese un número: 5\n",
            "Ingrese un número: 4\n",
            "7 es el valor mayor\n",
            "5 es el valor medio\n",
            "4 es el valor menor\n"
          ]
        }
      ]
    }
  ]
}